{
 "cells": [
  {
   "cell_type": "code",
   "execution_count": 1,
   "metadata": {},
   "outputs": [
    {
     "name": "stdout",
     "output_type": "stream",
     "text": [
      "Dictionary: A collection of key-value pairs.\n",
      "String: A series of characters.\n",
      "Boolean Expression: An expression that evaluates to True or False.\n",
      "Comment: A note in a program that the Python interpreter ignores.\n",
      "Value: An item associated with a key in a dictionary.\n",
      "Loop: Work through a collection of items, one at a time.\n",
      "List: A collection of items in a particular order.\n",
      "Key: The first item in a key-value pair in a dictionary.\n",
      "Float: A numerical value with a decimal component.\n"
     ]
    }
   ],
   "source": [
    "#problem 1\n",
    "concepts = {'Dictionary':'A collection of key-value pairs.','String':'A series of characters.','Boolean Expression':'An expression that evaluates to True or False.','Comment':'A note in a program that the Python interpreter ignores.','Value':'An item associated with a key in a dictionary.','Loop':'Work through a collection of items, one at a time.','List':'A collection of items in a particular order.','Key':'The first item in a key-value pair in a dictionary.','Float':'A numerical value with a decimal component.'}\n",
    "for key in concepts:\n",
    "    print(key+': '+concepts[key])"
   ]
  },
  {
   "cell_type": "code",
   "execution_count": 5,
   "metadata": {},
   "outputs": [
    {
     "name": "stdout",
     "output_type": "stream",
     "text": [
      "{'Blade Runner 2049', 'Spirited Away'}\n",
      "{'A Walk to Remember', 'Pretty Woman'}\n"
     ]
    }
   ],
   "source": [
    "#problem 2\n",
    "yina_fav_movies = {'Blade Runner 2049','Pretty Woman','Spirited Away','A Walk to Remember'}\n",
    "jarek_fav_movies = {'Blade Runner 2049','Alien','Spirited Away','Lord of the Rings','Pulp Fiction','Seven Samurai'}\n",
    "print(yina_fav_movies.intersection(jarek_fav_movies))   #favorite movies that we had in common\n",
    "print(yina_fav_movies.difference(jarek_fav_movies)) #movies I like but Jarek doesn't"
   ]
  },
  {
   "cell_type": "code",
   "execution_count": 3,
   "metadata": {},
   "outputs": [
    {
     "name": "stdout",
     "output_type": "stream",
     "text": [
      "A typical day for Yina:\n",
      "('wake up', 'eat breakfast', 'commute to work', 'work', 'eat lunch', 'work', 'leave work', 'run errands', 'cook or order dinner', 'read', 'take a shower', 'sleep')\n"
     ]
    }
   ],
   "source": [
    "#problem 3\n",
    "yina_daily_tasks = ('wake up','eat breakfast','commute to work','work', 'eat lunch','work','leave work','run errands','cook or order dinner','read','take a shower','sleep')\n",
    "print('A typical day for Yina:')\n",
    "print(yina_daily_tasks)"
   ]
  }
 ],
 "metadata": {
  "kernelspec": {
   "display_name": "Python 3",
   "language": "python",
   "name": "python3"
  },
  "language_info": {
   "codemirror_mode": {
    "name": "ipython",
    "version": 3
   },
   "file_extension": ".py",
   "mimetype": "text/x-python",
   "name": "python",
   "nbconvert_exporter": "python",
   "pygments_lexer": "ipython3",
   "version": "3.6.5"
  }
 },
 "nbformat": 4,
 "nbformat_minor": 2
}
